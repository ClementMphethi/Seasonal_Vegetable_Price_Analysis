{
 "cells": [
  {
   "cell_type": "markdown",
   "id": "fdb70e32-7496-4185-be2e-400ed3a266af",
   "metadata": {},
   "source": [
    "<div style=\"font-size: 30px\">\n",
    "    <font color='Blue'> <b>Seasonal Shifts: Understanding Vegetable Price Changes Across Time</b></font> "
   ]
  },
  {
   "cell_type": "markdown",
   "id": "b8d93ca2-62a9-4981-bfc0-5dbb50773653",
   "metadata": {},
   "source": [
    "<img src=\"Vegetable-Prices.jpg\" style=\"width:1000px;height:550px\"/>"
   ]
  },
  {
   "cell_type": "markdown",
   "id": "ee07aae3-e68a-45df-91a4-c7b5fd909615",
   "metadata": {},
   "source": [
    "<a id=\"cont\"></a>\n",
    "\n",
    "## Table of Contents\n",
    "* <b>[1. Project Overview](#chapter1)\n",
    "    * [1.1 Introduction](#section_1_1)\n",
    "        * [1.1.1 Problem Statement](#sub_section_1_1_1)\n",
    "    * [1.2 Objectives](#section_1_2)\n",
    "* <b>[2. Importing Packages](#chapter2)\n",
    "* <b>[3. Loading Data](#chapter3)\n",
    "* <b>[4. Data Cleaning](#chapter4)\n",
    "* <b>[5. Exploratory Data Analysis (EDA)](#chapter5)\n",
    "* <b>[6. Conclusion](#chapter6)</b>\n",
    "* <b>[7. References](#chapter7)<b>"
   ]
  },
  {
   "cell_type": "markdown",
   "id": "a7e010a9-c39b-4ef5-a4ce-9d2d13c2c84b",
   "metadata": {},
   "source": [
    "## 1. Project Overview <a class=\"anchor\" id=\"chapter1\"></a>\n",
    "\n",
    "### 1.1 Introduction <a class=\"anchor\" id=\"section_1_1\"></a>"
   ]
  },
  {
   "cell_type": "markdown",
   "id": "1ebf010b-2d12-43e9-a2e3-37cec4ea132c",
   "metadata": {},
   "source": [
    "Seasonal price variations in vegetables are primarily driven by supply and demand. During the \n",
    "peak growing season, when vegetables are abundant, prices tend to be lower. Conversely, in the \n",
    "off-season, when production decreases due to unfavourable weather conditions, prices increase. \n",
    "This pattern is a fundamental economic principle, but several factors can influence its dynamics. \n",
    "Weather plays a crucial role in agriculture. Unseasonably cold or hot weather can delay planting \n",
    "or harvesting, reducing the supply of certain vegetables and leading to higher prices. Vegetables \n",
    "that are not in season locally may be imported from other regions or countries. The cost of \n",
    "transportation, including fuel prices, can significantly affect the final price of these vegetables. \n",
    "Consumer preferences can also influence vegetable prices. For example, the demand for certain \n",
    "vegetables may increase around specific holidays, leading to temporary price hikes. \n",
    "Climate change is increasingly affecting agricultural patterns worldwide, leading to more \n",
    "unpredictable weather conditions and impacting the predictability of seasonal price variations. \n",
    "Extreme weather events, such as droughts, floods, and hurricanes, can devastate crops, \n",
    "reducing supply and driving up prices. Additionally, rising global temperatures can shift the \n",
    "growing seasons for many vegetables, affecting their availability and price."
   ]
  },
  {
   "cell_type": "markdown",
   "id": "e82ba6dc-09b3-40ac-a9bf-0680ebf3be52",
   "metadata": {},
   "source": [
    "#### 1.1.1 Problem Statement <a class=\"anchor\" id=\"sub_section_1_1_1\"></a>"
   ]
  },
  {
   "cell_type": "markdown",
   "id": "719c9878-c9eb-4f64-8d6c-403be2516c7d",
   "metadata": {},
   "source": [
    "\n",
    "Vegetable prices are subject to a wide range of factors, including weather conditions, demand, and \n",
    "the cost of labour and transportation. However, one of the most significant factors affecting the \n",
    "price of vegetables is the season. Seasonal variations can lead to significant fluctuations in the \n",
    "availability and cost of different types of vegetables. Understanding these seasonal patterns in \n",
    "vegetable prices can help producers make proactive decisions to optimize crop production, \n",
    "resource management, marketing strategies, risk mitigation, and financial planning \n"
   ]
  },
  {
   "cell_type": "markdown",
   "id": "5c29b763-cd20-4c24-8bde-1f3de694ac40",
   "metadata": {},
   "source": [
    "#### 1.1.2 Objectives <a class=\"anchor\" id=\"section_1_2\"></a>"
   ]
  },
  {
   "cell_type": "markdown",
   "id": "1bb1aacf-14c2-45ca-869a-4589691b8b71",
   "metadata": {},
   "source": [
    "1. Price Trend Analysis: Analyze the historical price trends of different vegetables to identify \n",
    "patterns and seasonal variations. \n",
    "2. Seasonal Impact Assessment: Determine the impact of seasons on vegetable prices and \n",
    "explore any notable seasonal price fluctuations. \n",
    "3. Correlation Study: Investigate correlations between vegetable prices to understand how \n",
    "changes in one vegetable's price may affect others. \n",
    "4. Insights Generation: Extract actionable insights and recommendations for stakeholders in \n",
    "the agricultural sector to optimize pricing strategies and improve market outcomes. "
   ]
  },
  {
   "cell_type": "markdown",
   "id": "cf7bae92-039e-4df1-974c-7b15ac863961",
   "metadata": {},
   "source": [
    "## 2. Importing Packages <a class=\"anchor\" id=\"chapter2\"></a>\n",
    "\n",
    "This data set was created to list all shows available on Netflix streaming, and analyze the data to find interesting facts. This data was acquired in July 2022 containing data available in the United States.\n",
    "\n",
    "+ For data manipulation and analysis, `Pandas` and `Numpy`.\n",
    "+ For data visualization, `Matplotlib` and `Seaborn`.\n"
   ]
  },
  {
   "cell_type": "code",
   "execution_count": 1,
   "id": "81f57f5e-01a9-4047-9e44-805c3d98c32c",
   "metadata": {},
   "outputs": [],
   "source": [
    "# Libraries for data loading, manipulation and analysis\n",
    "\n",
    "import numpy as np\n",
    "import pandas as pd\n",
    "import csv\n",
    "import seaborn as sns\n",
    "import matplotlib.pyplot as plt\n",
    "\n",
    "# Displays output inline\n",
    "%matplotlib inline\n",
    "\n",
    "# Libraries for Handing Errors\n",
    "import warnings\n",
    "warnings.filterwarnings('ignore')"
   ]
  },
  {
   "cell_type": "markdown",
   "id": "63a032e2-71d1-4e25-bbdd-869c6e5403a9",
   "metadata": {},
   "source": [
    "## 3. Loading Data <a class=\"anchor\" id=\"chapter3\"></a>\n",
    "\n",
    "The data used for this project was located in the `titles.csv` file. To better manipulate and analyse the `titles.csv` file, it was loaded into a Pandas Data Frame using the Pandas function, `.read_csv()` and referred to as `titles_import`. For demonstrating the column index in the dataframe , `index_col=False` was implemented."
   ]
  },
  {
   "cell_type": "code",
   "execution_count": 2,
   "id": "d27bbf3c-5542-4aae-b41f-8b42a0593bc2",
   "metadata": {},
   "outputs": [
    {
     "data": {
      "text/html": [
       "<div>\n",
       "<style scoped>\n",
       "    .dataframe tbody tr th:only-of-type {\n",
       "        vertical-align: middle;\n",
       "    }\n",
       "\n",
       "    .dataframe tbody tr th {\n",
       "        vertical-align: top;\n",
       "    }\n",
       "\n",
       "    .dataframe thead th {\n",
       "        text-align: right;\n",
       "    }\n",
       "</style>\n",
       "<table border=\"1\" class=\"dataframe\">\n",
       "  <thead>\n",
       "    <tr style=\"text-align: right;\">\n",
       "      <th></th>\n",
       "      <th>Price Dates</th>\n",
       "      <th>Bhindi (Ladies finger)</th>\n",
       "      <th>Tomato</th>\n",
       "      <th>Onion</th>\n",
       "      <th>Potato</th>\n",
       "      <th>Brinjal</th>\n",
       "      <th>Garlic</th>\n",
       "      <th>Peas</th>\n",
       "      <th>Methi</th>\n",
       "      <th>Green Chilli</th>\n",
       "      <th>Elephant Yam (Suran)</th>\n",
       "    </tr>\n",
       "  </thead>\n",
       "  <tbody>\n",
       "    <tr>\n",
       "      <th>0</th>\n",
       "      <td>01-01-2023</td>\n",
       "      <td>35.0</td>\n",
       "      <td>18</td>\n",
       "      <td>22.0</td>\n",
       "      <td>20</td>\n",
       "      <td>30</td>\n",
       "      <td>50</td>\n",
       "      <td>25</td>\n",
       "      <td>8</td>\n",
       "      <td>45.0</td>\n",
       "      <td>25</td>\n",
       "    </tr>\n",
       "    <tr>\n",
       "      <th>1</th>\n",
       "      <td>02-01-2023</td>\n",
       "      <td>35.0</td>\n",
       "      <td>16</td>\n",
       "      <td>22.0</td>\n",
       "      <td>20</td>\n",
       "      <td>30</td>\n",
       "      <td>55</td>\n",
       "      <td>25</td>\n",
       "      <td>7</td>\n",
       "      <td>40.0</td>\n",
       "      <td>25</td>\n",
       "    </tr>\n",
       "  </tbody>\n",
       "</table>\n",
       "</div>"
      ],
      "text/plain": [
       "  Price Dates  Bhindi (Ladies finger)  Tomato  Onion  Potato  Brinjal  Garlic  \\\n",
       "0  01-01-2023                    35.0      18   22.0      20       30      50   \n",
       "1  02-01-2023                    35.0      16   22.0      20       30      55   \n",
       "\n",
       "   Peas  Methi  Green Chilli  Elephant Yam (Suran)  \n",
       "0    25      8          45.0                    25  \n",
       "1    25      7          40.0                    25  "
      ]
     },
     "execution_count": 2,
     "metadata": {},
     "output_type": "execute_result"
    }
   ],
   "source": [
    "# loading dataset\n",
    "prices_df = pd.read_csv(\"prices.csv\", index_col=False)\n",
    "prices_df.head(2)"
   ]
  },
  {
   "cell_type": "markdown",
   "id": "2f546dfc-1f3e-4dfc-b3cb-70f81b103cab",
   "metadata": {},
   "source": [
    "To set the maximum number of columns to be displayed, the `pd.set_option()` function will be put in place."
   ]
  },
  {
   "cell_type": "code",
   "execution_count": 3,
   "id": "84e6a660-68bd-4d50-ac1c-ba5cb356a6c2",
   "metadata": {},
   "outputs": [],
   "source": [
    "pd.set_option(\"display.max_columns\", None)"
   ]
  },
  {
   "cell_type": "markdown",
   "id": "5ed236f2-6b0d-442d-bbde-f254c3d44a64",
   "metadata": {},
   "source": [
    "<div class=\"alert alert-block alert-danger\">\n",
    "<b>To prevent any major unnecessary changes occurring to the original data</b> , a copy of the dataframe will be made using the prices_df.copy() method and referred to as `prices_copy_df`.\n",
    "</div>"
   ]
  },
  {
   "cell_type": "code",
   "execution_count": 5,
   "id": "272f3570-66f9-41b9-b18c-401fd13e6cbc",
   "metadata": {},
   "outputs": [],
   "source": [
    "# The copy of the dataframe\n",
    "prices_copy_df = prices_df.copy()"
   ]
  },
  {
   "cell_type": "markdown",
   "id": "a418edf7-f9a3-4c5f-a60c-53b0d029b2eb",
   "metadata": {},
   "source": [
    "First we are looking at the shape of the dataframe by using `.shape`."
   ]
  },
  {
   "cell_type": "code",
   "execution_count": 6,
   "id": "babef065-d038-4fdb-97e8-ddb42562e567",
   "metadata": {},
   "outputs": [
    {
     "data": {
      "text/plain": [
       "(287, 11)"
      ]
     },
     "execution_count": 6,
     "metadata": {},
     "output_type": "execute_result"
    }
   ],
   "source": [
    "# Displays the number of rows and columns\n",
    "prices_copy_df.shape"
   ]
  },
  {
   "cell_type": "markdown",
   "id": "1b16d662-5b3a-48ae-8f65-95a71f7de0c2",
   "metadata": {},
   "source": [
    "**Results** : The dataset consists of 287 rows (observations) and 11 columns (features). \n",
    "\n",
    "One of the univariate analysis (non-graphical), is the method `.info()`. This method outputs important details about the dataset which includes the columns: the data types **(Dtype)** of the columns and the count of non-null values."
   ]
  },
  {
   "cell_type": "code",
   "execution_count": 7,
   "id": "d3d9bdd8-a36d-4033-9372-5d08d7905bc7",
   "metadata": {},
   "outputs": [
    {
     "name": "stdout",
     "output_type": "stream",
     "text": [
      "<class 'pandas.core.frame.DataFrame'>\n",
      "RangeIndex: 287 entries, 0 to 286\n",
      "Data columns (total 11 columns):\n",
      " #   Column                  Non-Null Count  Dtype  \n",
      "---  ------                  --------------  -----  \n",
      " 0   Price Dates             287 non-null    object \n",
      " 1   Bhindi (Ladies finger)  287 non-null    float64\n",
      " 2   Tomato                  287 non-null    int64  \n",
      " 3   Onion                   287 non-null    float64\n",
      " 4   Potato                  287 non-null    int64  \n",
      " 5   Brinjal                 287 non-null    int64  \n",
      " 6   Garlic                  287 non-null    int64  \n",
      " 7   Peas                    287 non-null    int64  \n",
      " 8   Methi                   287 non-null    int64  \n",
      " 9   Green Chilli            287 non-null    float64\n",
      " 10  Elephant Yam (Suran)    287 non-null    int64  \n",
      "dtypes: float64(3), int64(7), object(1)\n",
      "memory usage: 24.8+ KB\n"
     ]
    }
   ],
   "source": [
    "## Display summary information about the DataFrame.\n",
    "prices_copy_df.info()"
   ]
  },
  {
   "cell_type": "markdown",
   "id": "779aa19b-20b6-4bc0-a404-71bd1cfef56f",
   "metadata": {},
   "source": [
    "## 4. Data Cleaning <a class=\"anchor\" id=\"chapter4\"></a>\n",
    "\n",
    "After using the `info()`, we notice some issues with the format of the Price Dates and prices of vegetables"
   ]
  },
  {
   "cell_type": "code",
   "execution_count": 8,
   "id": "c7a00796-881b-4ac3-9237-4abfd204fac8",
   "metadata": {},
   "outputs": [],
   "source": [
    "# Convert 'Price Dates' column from string format to datetime format\n",
    "# Specify the format of the input date strings as day-month-year\n",
    "prices_copy_df['Price Dates'] = pd.to_datetime(prices_copy_df['Price Dates'], format='%d-%m-%Y')"
   ]
  },
  {
   "cell_type": "markdown",
   "id": "2d107f07-6eb7-41a9-8f52-682fc35ac9cf",
   "metadata": {},
   "source": [
    "**Result:** The column of date strings ('Price Dates') in a DataFrame (prices_copy_df) is converted into datetime objects using a specified date format ('%d-%m-%Y') which results in the column becoming standardized\n",
    "\n",
    "Standardizing the Price Dates column improves the quality, reliability and usability of out data, which makes it easier to derive meaningful insights and make informed decisions based on time-related information within the dataset"
   ]
  },
  {
   "cell_type": "code",
   "execution_count": 9,
   "id": "67c6df12-efc1-4b30-bb85-9e768dc27796",
   "metadata": {},
   "outputs": [
    {
     "data": {
      "text/html": [
       "<div>\n",
       "<style scoped>\n",
       "    .dataframe tbody tr th:only-of-type {\n",
       "        vertical-align: middle;\n",
       "    }\n",
       "\n",
       "    .dataframe tbody tr th {\n",
       "        vertical-align: top;\n",
       "    }\n",
       "\n",
       "    .dataframe thead th {\n",
       "        text-align: right;\n",
       "    }\n",
       "</style>\n",
       "<table border=\"1\" class=\"dataframe\">\n",
       "  <thead>\n",
       "    <tr style=\"text-align: right;\">\n",
       "      <th></th>\n",
       "      <th>Price Dates</th>\n",
       "      <th>Bhindi (Ladies finger)</th>\n",
       "      <th>Tomato</th>\n",
       "      <th>Onion</th>\n",
       "      <th>Potato</th>\n",
       "      <th>Brinjal</th>\n",
       "      <th>Garlic</th>\n",
       "      <th>Peas</th>\n",
       "      <th>Methi</th>\n",
       "      <th>Green Chilli</th>\n",
       "      <th>Elephant Yam (Suran)</th>\n",
       "    </tr>\n",
       "  </thead>\n",
       "  <tbody>\n",
       "    <tr>\n",
       "      <th>0</th>\n",
       "      <td>2023-01-01</td>\n",
       "      <td>35.0</td>\n",
       "      <td>18</td>\n",
       "      <td>22.0</td>\n",
       "      <td>20</td>\n",
       "      <td>30</td>\n",
       "      <td>50</td>\n",
       "      <td>25</td>\n",
       "      <td>8</td>\n",
       "      <td>45.0</td>\n",
       "      <td>25</td>\n",
       "    </tr>\n",
       "    <tr>\n",
       "      <th>1</th>\n",
       "      <td>2023-01-02</td>\n",
       "      <td>35.0</td>\n",
       "      <td>16</td>\n",
       "      <td>22.0</td>\n",
       "      <td>20</td>\n",
       "      <td>30</td>\n",
       "      <td>55</td>\n",
       "      <td>25</td>\n",
       "      <td>7</td>\n",
       "      <td>40.0</td>\n",
       "      <td>25</td>\n",
       "    </tr>\n",
       "    <tr>\n",
       "      <th>2</th>\n",
       "      <td>2023-01-03</td>\n",
       "      <td>35.0</td>\n",
       "      <td>16</td>\n",
       "      <td>21.0</td>\n",
       "      <td>20</td>\n",
       "      <td>30</td>\n",
       "      <td>55</td>\n",
       "      <td>25</td>\n",
       "      <td>7</td>\n",
       "      <td>40.0</td>\n",
       "      <td>25</td>\n",
       "    </tr>\n",
       "    <tr>\n",
       "      <th>3</th>\n",
       "      <td>2023-01-04</td>\n",
       "      <td>30.0</td>\n",
       "      <td>16</td>\n",
       "      <td>21.0</td>\n",
       "      <td>22</td>\n",
       "      <td>25</td>\n",
       "      <td>55</td>\n",
       "      <td>25</td>\n",
       "      <td>7</td>\n",
       "      <td>40.0</td>\n",
       "      <td>25</td>\n",
       "    </tr>\n",
       "    <tr>\n",
       "      <th>4</th>\n",
       "      <td>2023-01-08</td>\n",
       "      <td>35.0</td>\n",
       "      <td>16</td>\n",
       "      <td>20.0</td>\n",
       "      <td>21</td>\n",
       "      <td>25</td>\n",
       "      <td>55</td>\n",
       "      <td>22</td>\n",
       "      <td>6</td>\n",
       "      <td>35.0</td>\n",
       "      <td>25</td>\n",
       "    </tr>\n",
       "  </tbody>\n",
       "</table>\n",
       "</div>"
      ],
      "text/plain": [
       "  Price Dates  Bhindi (Ladies finger)  Tomato  Onion  Potato  Brinjal  Garlic  \\\n",
       "0  2023-01-01                    35.0      18   22.0      20       30      50   \n",
       "1  2023-01-02                    35.0      16   22.0      20       30      55   \n",
       "2  2023-01-03                    35.0      16   21.0      20       30      55   \n",
       "3  2023-01-04                    30.0      16   21.0      22       25      55   \n",
       "4  2023-01-08                    35.0      16   20.0      21       25      55   \n",
       "\n",
       "   Peas  Methi  Green Chilli  Elephant Yam (Suran)  \n",
       "0    25      8          45.0                    25  \n",
       "1    25      7          40.0                    25  \n",
       "2    25      7          40.0                    25  \n",
       "3    25      7          40.0                    25  \n",
       "4    22      6          35.0                    25  "
      ]
     },
     "execution_count": 9,
     "metadata": {},
     "output_type": "execute_result"
    }
   ],
   "source": [
    "prices_copy_df.head()"
   ]
  },
  {
   "cell_type": "code",
   "execution_count": 10,
   "id": "06ce8c1f-8e70-4456-9dde-e1f7cc1939cc",
   "metadata": {},
   "outputs": [],
   "source": [
    "# Specify columns to convert to float\n",
    "columns_to_convert = ['Tomato', 'Potato', 'Brinjal', 'Garlic', 'Peas', 'Methi',\t'Elephant Yam (Suran)']\n",
    "\n",
    "# Convert selected columns to float\n",
    "prices_copy_df[columns_to_convert] = prices_copy_df[columns_to_convert].astype(float)"
   ]
  },
  {
   "cell_type": "markdown",
   "id": "8fd4e326-f70a-4f1c-952f-f32be4806e75",
   "metadata": {},
   "source": [
    "**Result:** The columns Tomato, Potato, Brinjal, Garlic, Peas, Methi, and Elephant Yam (Suran) in the prices_copy_df DataFrame will be converted to float data type\n",
    "\n",
    "\n",
    "Representing vegetable prices to be in float format offers precision, which is crucial for accurately reflecting decimal values in prices (e.g 1.99 Rand). Using float format ensures that calculations involving prices, such as total costs or average prices, are accurate and free from rounding errors"
   ]
  },
  {
   "cell_type": "code",
   "execution_count": 11,
   "id": "01f1a7fb-1a40-4ea4-9c1b-f300eb41990e",
   "metadata": {},
   "outputs": [
    {
     "name": "stdout",
     "output_type": "stream",
     "text": [
      "<class 'pandas.core.frame.DataFrame'>\n",
      "RangeIndex: 287 entries, 0 to 286\n",
      "Data columns (total 11 columns):\n",
      " #   Column                  Non-Null Count  Dtype         \n",
      "---  ------                  --------------  -----         \n",
      " 0   Price Dates             287 non-null    datetime64[ns]\n",
      " 1   Bhindi (Ladies finger)  287 non-null    float64       \n",
      " 2   Tomato                  287 non-null    float64       \n",
      " 3   Onion                   287 non-null    float64       \n",
      " 4   Potato                  287 non-null    float64       \n",
      " 5   Brinjal                 287 non-null    float64       \n",
      " 6   Garlic                  287 non-null    float64       \n",
      " 7   Peas                    287 non-null    float64       \n",
      " 8   Methi                   287 non-null    float64       \n",
      " 9   Green Chilli            287 non-null    float64       \n",
      " 10  Elephant Yam (Suran)    287 non-null    float64       \n",
      "dtypes: datetime64[ns](1), float64(10)\n",
      "memory usage: 24.8 KB\n"
     ]
    }
   ],
   "source": [
    "prices_copy_df.info()"
   ]
  },
  {
   "cell_type": "code",
   "execution_count": 12,
   "id": "4476a1dc-cb72-4ad0-af56-ae08742d082e",
   "metadata": {},
   "outputs": [
    {
     "data": {
      "text/html": [
       "<div>\n",
       "<style scoped>\n",
       "    .dataframe tbody tr th:only-of-type {\n",
       "        vertical-align: middle;\n",
       "    }\n",
       "\n",
       "    .dataframe tbody tr th {\n",
       "        vertical-align: top;\n",
       "    }\n",
       "\n",
       "    .dataframe thead th {\n",
       "        text-align: right;\n",
       "    }\n",
       "</style>\n",
       "<table border=\"1\" class=\"dataframe\">\n",
       "  <thead>\n",
       "    <tr style=\"text-align: right;\">\n",
       "      <th></th>\n",
       "      <th>Price Dates</th>\n",
       "      <th>Bhindi (Ladies finger)</th>\n",
       "      <th>Tomato</th>\n",
       "      <th>Onion</th>\n",
       "      <th>Potato</th>\n",
       "      <th>Brinjal</th>\n",
       "      <th>Garlic</th>\n",
       "      <th>Peas</th>\n",
       "      <th>Methi</th>\n",
       "      <th>Green Chilli</th>\n",
       "      <th>Elephant Yam (Suran)</th>\n",
       "    </tr>\n",
       "  </thead>\n",
       "  <tbody>\n",
       "    <tr>\n",
       "      <th>0</th>\n",
       "      <td>2023-01-01</td>\n",
       "      <td>35.0</td>\n",
       "      <td>18.0</td>\n",
       "      <td>22.0</td>\n",
       "      <td>20.0</td>\n",
       "      <td>30.0</td>\n",
       "      <td>50.0</td>\n",
       "      <td>25.0</td>\n",
       "      <td>8.0</td>\n",
       "      <td>45.0</td>\n",
       "      <td>25.0</td>\n",
       "    </tr>\n",
       "    <tr>\n",
       "      <th>1</th>\n",
       "      <td>2023-01-02</td>\n",
       "      <td>35.0</td>\n",
       "      <td>16.0</td>\n",
       "      <td>22.0</td>\n",
       "      <td>20.0</td>\n",
       "      <td>30.0</td>\n",
       "      <td>55.0</td>\n",
       "      <td>25.0</td>\n",
       "      <td>7.0</td>\n",
       "      <td>40.0</td>\n",
       "      <td>25.0</td>\n",
       "    </tr>\n",
       "    <tr>\n",
       "      <th>2</th>\n",
       "      <td>2023-01-03</td>\n",
       "      <td>35.0</td>\n",
       "      <td>16.0</td>\n",
       "      <td>21.0</td>\n",
       "      <td>20.0</td>\n",
       "      <td>30.0</td>\n",
       "      <td>55.0</td>\n",
       "      <td>25.0</td>\n",
       "      <td>7.0</td>\n",
       "      <td>40.0</td>\n",
       "      <td>25.0</td>\n",
       "    </tr>\n",
       "    <tr>\n",
       "      <th>3</th>\n",
       "      <td>2023-01-04</td>\n",
       "      <td>30.0</td>\n",
       "      <td>16.0</td>\n",
       "      <td>21.0</td>\n",
       "      <td>22.0</td>\n",
       "      <td>25.0</td>\n",
       "      <td>55.0</td>\n",
       "      <td>25.0</td>\n",
       "      <td>7.0</td>\n",
       "      <td>40.0</td>\n",
       "      <td>25.0</td>\n",
       "    </tr>\n",
       "    <tr>\n",
       "      <th>4</th>\n",
       "      <td>2023-01-08</td>\n",
       "      <td>35.0</td>\n",
       "      <td>16.0</td>\n",
       "      <td>20.0</td>\n",
       "      <td>21.0</td>\n",
       "      <td>25.0</td>\n",
       "      <td>55.0</td>\n",
       "      <td>22.0</td>\n",
       "      <td>6.0</td>\n",
       "      <td>35.0</td>\n",
       "      <td>25.0</td>\n",
       "    </tr>\n",
       "  </tbody>\n",
       "</table>\n",
       "</div>"
      ],
      "text/plain": [
       "  Price Dates  Bhindi (Ladies finger)  Tomato  Onion  Potato  Brinjal  Garlic  \\\n",
       "0  2023-01-01                    35.0    18.0   22.0    20.0     30.0    50.0   \n",
       "1  2023-01-02                    35.0    16.0   22.0    20.0     30.0    55.0   \n",
       "2  2023-01-03                    35.0    16.0   21.0    20.0     30.0    55.0   \n",
       "3  2023-01-04                    30.0    16.0   21.0    22.0     25.0    55.0   \n",
       "4  2023-01-08                    35.0    16.0   20.0    21.0     25.0    55.0   \n",
       "\n",
       "   Peas  Methi  Green Chilli  Elephant Yam (Suran)  \n",
       "0  25.0    8.0          45.0                  25.0  \n",
       "1  25.0    7.0          40.0                  25.0  \n",
       "2  25.0    7.0          40.0                  25.0  \n",
       "3  25.0    7.0          40.0                  25.0  \n",
       "4  22.0    6.0          35.0                  25.0  "
      ]
     },
     "execution_count": 12,
     "metadata": {},
     "output_type": "execute_result"
    }
   ],
   "source": [
    "prices_copy_df.head()"
   ]
  },
  {
   "cell_type": "markdown",
   "id": "32bf095f-36f5-4786-9e9d-a4ca327fcb2f",
   "metadata": {},
   "source": [
    "The `.describe()` method is a fundamental tool used for generating descriptive statistics"
   ]
  },
  {
   "cell_type": "code",
   "execution_count": null,
   "id": "19a96a43-f70a-47cb-a528-2b1d9e2ceb71",
   "metadata": {},
   "outputs": [],
   "source": []
  }
 ],
 "metadata": {
  "kernelspec": {
   "display_name": "Python 3 (ipykernel)",
   "language": "python",
   "name": "python3"
  },
  "language_info": {
   "codemirror_mode": {
    "name": "ipython",
    "version": 3
   },
   "file_extension": ".py",
   "mimetype": "text/x-python",
   "name": "python",
   "nbconvert_exporter": "python",
   "pygments_lexer": "ipython3",
   "version": "3.11.8"
  }
 },
 "nbformat": 4,
 "nbformat_minor": 5
}
