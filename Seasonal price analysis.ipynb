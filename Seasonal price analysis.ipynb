{
 "cells": [
  {
   "cell_type": "markdown",
   "id": "fdb70e32-7496-4185-be2e-400ed3a266af",
   "metadata": {},
   "source": [
    "<div style=\"font-size: 30px\">\n",
    "    <font color='Blue'> <b>Seasonal Shifts: Understanding Vegetable Price Changes Across Time</b></font> "
   ]
  },
  {
   "cell_type": "markdown",
   "id": "b8d93ca2-62a9-4981-bfc0-5dbb50773653",
   "metadata": {},
   "source": [
    "<img src=\"Vegetable-Prices.jpg\" style=\"width:1000px;height:550px\"/>"
   ]
  },
  {
   "cell_type": "markdown",
   "id": "ee07aae3-e68a-45df-91a4-c7b5fd909615",
   "metadata": {},
   "source": [
    "<a id=\"cont\"></a>\n",
    "\n",
    "## Table of Contents\n",
    "* <b>[1. Project Overview](#chapter1)\n",
    "    * [1.1 Introduction](#section_1_1)\n",
    "        * [1.1.1 Problem Statement](#sub_section_1_1_1)\n",
    "    * [1.2 Objectives](#section_1_2)\n",
    "* <b>[2. Importing Packages](#chapter2)\n",
    "* <b>[3. Loading Data](#chapter3)\n",
    "* <b>[4. Data Cleaning](#chapter4)\n",
    "* <b>[5. Exploratory Data Analysis (EDA)](#chapter5)\n",
    "* <b>[6. Conclusion](#chapter6)</b>\n",
    "* <b>[7. References](#chapter7)<b>"
   ]
  },
  {
   "cell_type": "markdown",
   "id": "a7e010a9-c39b-4ef5-a4ce-9d2d13c2c84b",
   "metadata": {},
   "source": [
    "## 1. Project Overview <a class=\"anchor\" id=\"chapter1\"></a>\n",
    "\n",
    "### 1.1 Introduction <a class=\"anchor\" id=\"section_1_1\"></a>"
   ]
  },
  {
   "cell_type": "markdown",
   "id": "1ebf010b-2d12-43e9-a2e3-37cec4ea132c",
   "metadata": {},
   "source": [
    "Seasonal price variations in vegetables are primarily driven by supply and demand. During the \n",
    "peak growing season, when vegetables are abundant, prices tend to be lower. Conversely, in the \n",
    "off-season, when production decreases due to unfavourable weather conditions, prices increase. \n",
    "This pattern is a fundamental economic principle, but several factors can influence its dynamics. \n",
    "Weather plays a crucial role in agriculture. Unseasonably cold or hot weather can delay planting \n",
    "or harvesting, reducing the supply of certain vegetables and leading to higher prices. Vegetables \n",
    "that are not in season locally may be imported from other regions or countries. The cost of \n",
    "transportation, including fuel prices, can significantly affect the final price of these vegetables. \n",
    "Consumer preferences can also influence vegetable prices. For example, the demand for certain \n",
    "vegetables may increase around specific holidays, leading to temporary price hikes. \n",
    "Climate change is increasingly affecting agricultural patterns worldwide, leading to more \n",
    "unpredictable weather conditions and impacting the predictability of seasonal price variations. \n",
    "Extreme weather events, such as droughts, floods, and hurricanes, can devastate crops, \n",
    "reducing supply and driving up prices. Additionally, rising global temperatures can shift the \n",
    "growing seasons for many vegetables, affecting their availability and price."
   ]
  },
  {
   "cell_type": "markdown",
   "id": "e82ba6dc-09b3-40ac-a9bf-0680ebf3be52",
   "metadata": {},
   "source": [
    "#### 1.1.1 Problem Statement <a class=\"anchor\" id=\"sub_section_1_1_1\"></a>"
   ]
  },
  {
   "cell_type": "markdown",
   "id": "719c9878-c9eb-4f64-8d6c-403be2516c7d",
   "metadata": {},
   "source": [
    "\n",
    "Vegetable prices are subject to a wide range of factors, including weather conditions, demand, and \n",
    "the cost of labour and transportation. However, one of the most significant factors affecting the \n",
    "price of vegetables is the season. Seasonal variations can lead to significant fluctuations in the \n",
    "availability and cost of different types of vegetables. Understanding these seasonal patterns in \n",
    "vegetable prices can help producers make proactive decisions to optimize crop production, \n",
    "resource management, marketing strategies, risk mitigation, and financial planning \n"
   ]
  },
  {
   "cell_type": "markdown",
   "id": "5c29b763-cd20-4c24-8bde-1f3de694ac40",
   "metadata": {},
   "source": [
    "#### 1.1.2 Objectives <a class=\"anchor\" id=\"section_1_2\"></a>"
   ]
  },
  {
   "cell_type": "markdown",
   "id": "1bb1aacf-14c2-45ca-869a-4589691b8b71",
   "metadata": {},
   "source": [
    "1. Price Trend Analysis: Analyze the historical price trends of different vegetables to identify \n",
    "patterns and seasonal variations. \n",
    "2. Seasonal Impact Assessment: Determine the impact of seasons on vegetable prices and \n",
    "explore any notable seasonal price fluctuations. \n",
    "3. Correlation Study: Investigate correlations between vegetable prices to understand how \n",
    "changes in one vegetable's price may affect others. \n",
    "4. Insights Generation: Extract actionable insights and recommendations for stakeholders in \n",
    "the agricultural sector to optimize pricing strategies and improve market outcomes. "
   ]
  },
  {
   "cell_type": "markdown",
   "id": "cf7bae92-039e-4df1-974c-7b15ac863961",
   "metadata": {},
   "source": [
    "## 2. Importing Packages <a class=\"anchor\" id=\"chapter2\"></a>\n",
    "\n",
    "This data set was created to list all shows available on Netflix streaming, and analyze the data to find interesting facts. This data was acquired in July 2022 containing data available in the United States.\n",
    "\n",
    "+ For data manipulation and analysis, `Pandas` and `Numpy`.\n",
    "+ For data visualization, `Matplotlib` and `Seaborn`.\n"
   ]
  },
  {
   "cell_type": "code",
   "execution_count": 1,
   "id": "81f57f5e-01a9-4047-9e44-805c3d98c32c",
   "metadata": {},
   "outputs": [],
   "source": [
    "# Libraries for data loading, manipulation and analysis\n",
    "\n",
    "import numpy as np\n",
    "import pandas as pd\n",
    "import csv\n",
    "import seaborn as sns\n",
    "import matplotlib.pyplot as plt\n",
    "\n",
    "# Displays output inline\n",
    "%matplotlib inline\n",
    "\n",
    "# Libraries for Handing Errors\n",
    "import warnings\n",
    "warnings.filterwarnings('ignore')"
   ]
  },
  {
   "cell_type": "markdown",
   "id": "63a032e2-71d1-4e25-bbdd-869c6e5403a9",
   "metadata": {},
   "source": [
    "## 3. Loading Data <a class=\"anchor\" id=\"chapter3\"></a>\n",
    "\n",
    "The data used for this project was located in the `titles.csv` file. To better manipulate and analyse the `titles.csv` file, it was loaded into a Pandas Data Frame using the Pandas function, `.read_csv()` and referred to as `titles_import`. For demonstrating the column index in the dataframe , `index_col=False` was implemented."
   ]
  },
  {
   "cell_type": "code",
   "execution_count": 2,
   "id": "d27bbf3c-5542-4aae-b41f-8b42a0593bc2",
   "metadata": {},
   "outputs": [
    {
     "data": {
      "text/html": [
       "<div>\n",
       "<style scoped>\n",
       "    .dataframe tbody tr th:only-of-type {\n",
       "        vertical-align: middle;\n",
       "    }\n",
       "\n",
       "    .dataframe tbody tr th {\n",
       "        vertical-align: top;\n",
       "    }\n",
       "\n",
       "    .dataframe thead th {\n",
       "        text-align: right;\n",
       "    }\n",
       "</style>\n",
       "<table border=\"1\" class=\"dataframe\">\n",
       "  <thead>\n",
       "    <tr style=\"text-align: right;\">\n",
       "      <th></th>\n",
       "      <th>Price Dates</th>\n",
       "      <th>Bhindi (Ladies finger)</th>\n",
       "      <th>Tomato</th>\n",
       "      <th>Onion</th>\n",
       "      <th>Potato</th>\n",
       "      <th>Brinjal</th>\n",
       "      <th>Garlic</th>\n",
       "      <th>Peas</th>\n",
       "      <th>Methi</th>\n",
       "      <th>Green Chilli</th>\n",
       "      <th>Elephant Yam (Suran)</th>\n",
       "    </tr>\n",
       "  </thead>\n",
       "  <tbody>\n",
       "    <tr>\n",
       "      <th>0</th>\n",
       "      <td>01-01-2023</td>\n",
       "      <td>35.0</td>\n",
       "      <td>18</td>\n",
       "      <td>22.0</td>\n",
       "      <td>20</td>\n",
       "      <td>30</td>\n",
       "      <td>50</td>\n",
       "      <td>25</td>\n",
       "      <td>8</td>\n",
       "      <td>45.0</td>\n",
       "      <td>25</td>\n",
       "    </tr>\n",
       "    <tr>\n",
       "      <th>1</th>\n",
       "      <td>02-01-2023</td>\n",
       "      <td>35.0</td>\n",
       "      <td>16</td>\n",
       "      <td>22.0</td>\n",
       "      <td>20</td>\n",
       "      <td>30</td>\n",
       "      <td>55</td>\n",
       "      <td>25</td>\n",
       "      <td>7</td>\n",
       "      <td>40.0</td>\n",
       "      <td>25</td>\n",
       "    </tr>\n",
       "  </tbody>\n",
       "</table>\n",
       "</div>"
      ],
      "text/plain": [
       "  Price Dates  Bhindi (Ladies finger)  Tomato  Onion  Potato  Brinjal  Garlic  \\\n",
       "0  01-01-2023                    35.0      18   22.0      20       30      50   \n",
       "1  02-01-2023                    35.0      16   22.0      20       30      55   \n",
       "\n",
       "   Peas  Methi  Green Chilli  Elephant Yam (Suran)  \n",
       "0    25      8          45.0                    25  \n",
       "1    25      7          40.0                    25  "
      ]
     },
     "execution_count": 2,
     "metadata": {},
     "output_type": "execute_result"
    }
   ],
   "source": [
    "# loading dataset\n",
    "prices_df = pd.read_csv(\"prices.csv\", index_col=False)\n",
    "prices_df.head(2)"
   ]
  },
  {
   "cell_type": "markdown",
   "id": "2f546dfc-1f3e-4dfc-b3cb-70f81b103cab",
   "metadata": {},
   "source": [
    "To set the maximum number of columns to be displayed, the `pd.set_option()` function will be put in place."
   ]
  },
  {
   "cell_type": "code",
   "execution_count": 3,
   "id": "84e6a660-68bd-4d50-ac1c-ba5cb356a6c2",
   "metadata": {},
   "outputs": [],
   "source": [
    "pd.set_option(\"display.max_columns\", None)"
   ]
  },
  {
   "cell_type": "markdown",
   "id": "5ed236f2-6b0d-442d-bbde-f254c3d44a64",
   "metadata": {},
   "source": [
    "<div class=\"alert alert-block alert-danger\">\n",
    "<b>To prevent any major unnecessary changes occurring to the original data</b> , a copy of the dataframe will be made using the prices_df.copy() method and referred to as `prices_copy_df`.\n",
    "</div>"
   ]
  },
  {
   "cell_type": "code",
   "execution_count": 5,
   "id": "272f3570-66f9-41b9-b18c-401fd13e6cbc",
   "metadata": {},
   "outputs": [],
   "source": [
    "# The copy of the dataframe\n",
    "prices_copy_df = prices_df.copy()"
   ]
  },
  {
   "cell_type": "markdown",
   "id": "a418edf7-f9a3-4c5f-a60c-53b0d029b2eb",
   "metadata": {},
   "source": [
    "First we are looking at the shape of the dataframe by using `.shape`."
   ]
  },
  {
   "cell_type": "code",
   "execution_count": null,
   "id": "babef065-d038-4fdb-97e8-ddb42562e567",
   "metadata": {},
   "outputs": [],
   "source": []
  }
 ],
 "metadata": {
  "kernelspec": {
   "display_name": "Python 3 (ipykernel)",
   "language": "python",
   "name": "python3"
  },
  "language_info": {
   "codemirror_mode": {
    "name": "ipython",
    "version": 3
   },
   "file_extension": ".py",
   "mimetype": "text/x-python",
   "name": "python",
   "nbconvert_exporter": "python",
   "pygments_lexer": "ipython3",
   "version": "3.11.8"
  }
 },
 "nbformat": 4,
 "nbformat_minor": 5
}
